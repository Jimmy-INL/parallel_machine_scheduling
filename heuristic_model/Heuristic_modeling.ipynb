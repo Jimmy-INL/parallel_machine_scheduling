{
 "cells": [
  {
   "cell_type": "markdown",
   "metadata": {},
   "source": [
    "## Parallel Machine Scheduling Heuristic modeling\n",
    "### Introduction\n",
    "\n",
    "Parallel machine scheduling problems with release constraints, $Pm|r_j|\\sum C_j$, has been proved NP-hard in strong sense. This repository is to use Branch and Bound algorithm to solve it, as well as an approximate algorithm, SRPT-CONVERT. The code is implemented in C and Python-API is wrapped with Cython package.\n",
    "\n",
    "### Problem definition\n",
    "\n",
    "$M$ machines needs to process $N$ jobs. Each job is associated with a release constraint and a process time interval. Each machine is not available to start processing jobs until the available time is up to (processing some jobs not in $N$ jobs). The objective is to have the machines finish processing all jobs. The result is to have the Gantt chart to express the schedule of the whole machines. \n",
    "\n",
    "- Input: \n",
    "  - request_ids: ids of jobs to be processed;\n",
    "  - release_times: time interval of jobs released to be processed;\n",
    "  - process_intervals: time interval to process a job, non preemptive is assumed;\n",
    "  - machine_available_times: time interval of machines available to start processing jobs;\n",
    "- Output:\n",
    "  - Gantt Chart of jobs and machines;\n",
    "\n",
    "### Approximate algorithm\n",
    "\n",
    "- SRPT-CONVERT:\n",
    "  - Delete the non-preemptive constraint to change the problem to a P-solvable problem, $Pm|r_j, pmtm|\\sum C_i$, by releasing the non-preemptive constraints.\n",
    "  - CONVERT algorithm is used to transform the preemptive schedules to non-preemptive one.\n",
    "\n",
    "### Exact algorithm\n",
    "\n",
    "- Branch and bound search\n",
    "  - Bounds I:\n",
    "    -  $Pm||\\sum C_i$, delete release constraints;\n",
    "    - Solution: Shortest-Process-Time (SPT)\n",
    "  - Bounds II:\n",
    "    - $Pm|r_j, pmtm|\\sum C_i$, delete non-preemptive constraints;\n",
    "    - Solution: Shortest-Remaining-Process-Time (SRPT);\n",
    "\n",
    "### Running the code\n",
    "\n",
    "- Compile the code: make all;\n",
    "- Try the demo: python demo.py;"
   ]
  }
 ],
 "metadata": {
  "kernelspec": {
   "display_name": "Python [conda env:py36]",
   "language": "python",
   "name": "conda-env-py36-py"
  },
  "language_info": {
   "codemirror_mode": {
    "name": "ipython",
    "version": 3
   },
   "file_extension": ".py",
   "mimetype": "text/x-python",
   "name": "python",
   "nbconvert_exporter": "python",
   "pygments_lexer": "ipython3",
   "version": "3.6.4"
  }
 },
 "nbformat": 4,
 "nbformat_minor": 2
}
